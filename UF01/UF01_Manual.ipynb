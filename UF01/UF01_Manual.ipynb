{
 "cells": [
  {
   "cell_type": "markdown",
   "source": [
    "# UF01\n",
    "## Data Input\n",
    "\n",
    "The default type is <str> that means you need to convert the data type to the format you want.\n",
    "\n",
    "int()   -> \\<Integer>\\n\\n",
    "float() -> \\<Float>\\n\\n",
    "bool()  -> \\<Boolean>\\n\\n",
    "str()   -> \\<String>\\n\\n",
    "chr()   -> \\<Character>\\n\\n",
    "\n",
    "To input a number the comand to use is input(). A common practice is to assign the value of the input() to a variable.\n",
    "You can also output text to avoid using a print() before the input()"
   ],
   "metadata": {
    "collapsed": false
   },
   "id": "6450d60b748030a6"
  },
  {
   "cell_type": "code",
   "execution_count": null,
   "outputs": [],
   "source": [
    "#Option 1: Only Input <str>\n",
    "var_name = input()\n",
    "#Option 2: Input with another type <int>\n",
    "var_name = int(input())\n",
    "#Option 3: Output before an input\n",
    "print('Input: ', end='')\n",
    "var_name = input()\n",
    "#Option 4: Output before an input v2\n",
    "var_name = input('Input: ')"
   ],
   "metadata": {
    "collapsed": false
   },
   "id": "6033ebf575b5e3aa"
  },
  {
   "cell_type": "markdown",
   "source": [
    "## Data Output\n"
   ],
   "metadata": {
    "collapsed": false
   },
   "id": "79571d45e3850d13"
  }
 ],
 "metadata": {
  "kernelspec": {
   "display_name": "Python 3",
   "language": "python",
   "name": "python3"
  },
  "language_info": {
   "codemirror_mode": {
    "name": "ipython",
    "version": 2
   },
   "file_extension": ".py",
   "mimetype": "text/x-python",
   "name": "python",
   "nbconvert_exporter": "python",
   "pygments_lexer": "ipython2",
   "version": "2.7.6"
  }
 },
 "nbformat": 4,
 "nbformat_minor": 5
}
