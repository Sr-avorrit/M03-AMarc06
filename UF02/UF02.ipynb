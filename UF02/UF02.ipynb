{
 "cells": [
  {
   "cell_type": "markdown",
   "metadata": {},
   "source": [
    "# Apunts Python UF02\n",
    "## Funcions\n",
    "Podem crear funcions amb 4 combinacions diferents.\n",
    "- No revín, No retornin\n",
    "- Revín, No retornin\n",
    "- No revín, Retornin\n",
    "- Revín, Retornin\n",
    "A continuació veurem un exemple per cada una de les combinacions."
   ]
  },
  {
   "cell_type": "markdown",
   "metadata": {},
   "source": [
    "1. No revín, No retornin:"
   ]
  },
  {
   "cell_type": "code",
   "execution_count": null,
   "metadata": {},
   "outputs": [],
   "source": [
    "def saludar():\n",
    "    print(\"Hola, món!\")\n",
    "\n",
    "# Exemple d'ús\n",
    "saludar()"
   ]
  },
  {
   "cell_type": "markdown",
   "metadata": {},
   "source": [
    "2. Revín, No retornin:"
   ]
  },
  {
   "cell_type": "code",
   "execution_count": null,
   "metadata": {},
   "outputs": [],
   "source": [
    "def saludar_persona(nom):\n",
    "    print(f\"Hola, {nom}!\")\n",
    "\n",
    "# Exemple d'ús\n",
    "saludar_persona(\"Anna\")"
   ]
  },
  {
   "cell_type": "markdown",
   "metadata": {},
   "source": [
    "3. No revín, Retornin:"
   ]
  },
  {
   "cell_type": "code",
   "execution_count": null,
   "metadata": {},
   "outputs": [],
   "source": [
    "def obtenir_pi():\n",
    "    return 3.14159\n",
    "\n",
    "# Exemple d'ús\n",
    "valor_pi = obtenir_pi()\n",
    "print(f\"El valor de pi és aproximadament {valor_pi}\")"
   ]
  },
  {
   "cell_type": "markdown",
   "metadata": {},
   "source": [
    "4. Revín, Retornin:"
   ]
  },
  {
   "cell_type": "code",
   "execution_count": null,
   "metadata": {},
   "outputs": [],
   "source": [
    "def suma(a, b):\n",
    "    return a + b\n",
    "\n",
    "# Exemple d'ús\n",
    "resultat = suma(5, 3)\n",
    "print(f\"La suma és {resultat}\")"
   ]
  }
 ],
 "metadata": {
  "kernelspec": {
   "display_name": "Python 3",
   "language": "python",
   "name": "python3"
  },
  "language_info": {
   "codemirror_mode": {
    "name": "ipython",
    "version": 3
   },
   "file_extension": ".py",
   "mimetype": "text/x-python",
   "name": "python",
   "nbconvert_exporter": "python",
   "pygments_lexer": "ipython3",
   "version": "3.12.0"
  }
 },
 "nbformat": 4,
 "nbformat_minor": 2
}
